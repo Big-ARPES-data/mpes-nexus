{
 "cells": [
  {
   "cell_type": "markdown",
   "metadata": {},
   "source": [
    "# Draft NXmpes definition\n",
    "\n",
    "In this script I tried to create a file that contains the minimal set of information of a MPES experiment oriented to automatic analysis, as a demonstrator of a draft definition.\n",
    "\n",
    "Here we define the \"super definition\" trying to encompass and allow interoperability across the whole ARPES community. Our working idea (to be discussed) is that it is possible to \"layer\" definitions of increasing specificity to maximize interoperability without limiting the capabilities of software based on this structure.\n",
    "\n",
    "A basic visualization tool would then look for the NXmpes definition, allowing to open and go through essentially any output of an arpes experiment in volumetric form. More specific analysis tools may then look for more stringent definitions such as, for example:\n",
    "root.entry.definition_flavor=NXfield('NXmpes_tr') or root.entry.definition_facility=NXfield('NXmpes_FLASH')\n",
    "and thus achieve automated access to a wider set of metadata."
   ]
  },
  {
   "cell_type": "code",
   "execution_count": 2,
   "metadata": {},
   "outputs": [],
   "source": [
    "import h5py\n",
    "import numpy as np\n",
    "import os\n",
    "import six\n",
    "import pytest\n",
    "from nexusformat.nexus import *\n",
    "def printname(name):\n",
    "    print(name)"
   ]
  },
  {
   "cell_type": "markdown",
   "metadata": {},
   "source": [
    "# Read data and metadata from hdf5 files"
   ]
  },
  {
   "cell_type": "code",
   "execution_count": 3,
   "metadata": {},
   "outputs": [
    {
     "name": "stdout",
     "output_type": "stream",
     "text": [
      "axes\n",
      "axes/E\n",
      "axes/kx\n",
      "axes/ky\n",
      "axes/tpp\n",
      "binned\n",
      "binned/V\n"
     ]
    }
   ],
   "source": [
    "#Reading the volumetric binned data from hdf5 file\n",
    "in_d = h5py.File('Original Files/201805_WSe2_LCPpump_LPprobe.h5', 'r')\n",
    "#Show hdf5 hierarchy (dictionary-like syntax)\n",
    "in_d.visit(printname)"
   ]
  },
  {
   "cell_type": "code",
   "execution_count": 4,
   "metadata": {},
   "outputs": [],
   "source": [
    "#reduce dimension to demonstrate the acceptable dataset with the smallest dimensionality (2D)\n",
    "low_D_data=in_d['binned']['V'][:,38:42,:,:].sum(axis=(1,3))"
   ]
  },
  {
   "cell_type": "markdown",
   "metadata": {},
   "source": [
    "# Create NXentry object"
   ]
  },
  {
   "cell_type": "code",
   "execution_count": 5,
   "metadata": {},
   "outputs": [],
   "source": [
    "root=NXroot(NXentry())"
   ]
  },
  {
   "cell_type": "code",
   "execution_count": 6,
   "metadata": {},
   "outputs": [],
   "source": [
    "root.entry.definition=NXfield('NXmpes') "
   ]
  },
  {
   "cell_type": "markdown",
   "metadata": {},
   "source": [
    "   ## Create NXinstrument object"
   ]
  },
  {
   "cell_type": "code",
   "execution_count": 7,
   "metadata": {},
   "outputs": [],
   "source": [
    "root.entry.instrument=NXinstrument()"
   ]
  },
  {
   "cell_type": "markdown",
   "metadata": {},
   "source": [
    "### Create beam_probe_0 object"
   ]
  },
  {
   "cell_type": "code",
   "execution_count": 8,
   "metadata": {},
   "outputs": [],
   "source": [
    "root.entry.instrument.beam_probe_0=NXbeam()"
   ]
  },
  {
   "cell_type": "code",
   "execution_count": 9,
   "metadata": {},
   "outputs": [],
   "source": [
    "root.entry.instrument.beam_probe_0.distance=NXfield(0)\n",
    "root.entry.instrument.beam_probe_0.photon_energy=NXfield(36.49699020385742, units='eV')"
   ]
  },
  {
   "cell_type": "markdown",
   "metadata": {},
   "source": [
    "### Create manipulator:NXpositioner object "
   ]
  },
  {
   "cell_type": "code",
   "execution_count": 10,
   "metadata": {},
   "outputs": [],
   "source": [
    "root.entry.instrument.manipulator=NXpositioner() # Details of the substructure of manipulator are not required"
   ]
  },
  {
   "cell_type": "markdown",
   "metadata": {},
   "source": [
    "### Create NXdetector object"
   ]
  },
  {
   "cell_type": "code",
   "execution_count": 11,
   "metadata": {},
   "outputs": [],
   "source": [
    "root.entry.instrument.analyser=NXdetector()"
   ]
  },
  {
   "cell_type": "code",
   "execution_count": 12,
   "metadata": {},
   "outputs": [],
   "source": [
    "root.entry.instrument.analyser.lens_mode=NXfield('20180430_KPEEM_M_-2.5_FoV6.2_rezAA_20ToF_focused.sav')\n",
    "root.entry.instrument.analyser.pass_energy=NXfield(20, units='eV') # Pass energy for hemispherical, drift energy for a tof\n",
    "root.entry.instrument.analyser.energy_scan_mode=NXfield('fixed')"
   ]
  },
  {
   "cell_type": "markdown",
   "metadata": {},
   "source": [
    "## Create NXsample object"
   ]
  },
  {
   "cell_type": "code",
   "execution_count": 13,
   "metadata": {},
   "outputs": [],
   "source": [
    "root.entry.sample=NXsample()"
   ]
  },
  {
   "cell_type": "code",
   "execution_count": 14,
   "metadata": {},
   "outputs": [],
   "source": [
    "root.entry.sample.name=NXfield('WSe2')\n",
    "root.entry.sample.temperature=NXfield(300, units='K')\n",
    "root.entry.sample.pressure=NXfield(3.85e-10, units='mbar')"
   ]
  },
  {
   "cell_type": "markdown",
   "metadata": {},
   "source": [
    "## Create NXdata object"
   ]
  },
  {
   "cell_type": "code",
   "execution_count": 15,
   "metadata": {},
   "outputs": [],
   "source": [
    "# Create the NXdata object\n",
    "#Build the axes with names and units\n",
    "kx=NXfield(in_d['axes']['kx'],name='k_x',units='1/Å')\n",
    "E=NXfield(in_d['axes']['E'],name='Energy',units='eV')\n",
    "data_vol=NXfield(low_D_data,name='Photoemission intensity',units='counts', compression=\"gzip\", compression_opts=0)"
   ]
  },
  {
   "cell_type": "code",
   "execution_count": 16,
   "metadata": {},
   "outputs": [],
   "source": [
    "# Wrap the NXfields in a NXdata object\n",
    "root.entry.data=NXdata(data_vol,[kx,E])"
   ]
  },
  {
   "cell_type": "markdown",
   "metadata": {},
   "source": [
    "# Save File"
   ]
  },
  {
   "cell_type": "code",
   "execution_count": 17,
   "metadata": {},
   "outputs": [
    {
     "data": {
      "text/plain": [
       "NXroot('root')"
      ]
     },
     "execution_count": 17,
     "metadata": {},
     "output_type": "execute_result"
    }
   ],
   "source": [
    "root.save('201805_WSe2_min.nxs', mode='w')"
   ]
  }
 ],
 "metadata": {
  "kernelspec": {
   "display_name": "Python 3",
   "language": "python",
   "name": "python3"
  },
  "language_info": {
   "codemirror_mode": {
    "name": "ipython",
    "version": 3
   },
   "file_extension": ".py",
   "mimetype": "text/x-python",
   "name": "python",
   "nbconvert_exporter": "python",
   "pygments_lexer": "ipython3",
   "version": "3.8.2"
  }
 },
 "nbformat": 4,
 "nbformat_minor": 4
}
