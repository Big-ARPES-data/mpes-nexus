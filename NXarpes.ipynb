{
 "cells": [
  {
   "cell_type": "markdown",
   "metadata": {},
   "source": [
    "###### Example of a file saved in the NXarpes format\n",
    "\n",
    "To help the development of community standard and software interface, here is also the example of a script to dynamically build a NeXus file formatted according to the NXarpes application definition as developed by P.R. Jemian and T. Richter (contributors on GitHub, but my feeling is that also the photoemission community in DIAMOND, and in particular M. Hoesch and P. Dudin were involved).\n",
    "\n",
    "Here, I do not try to save *exclusively* the metadata required by the definition, but to save a meaningful. The required ones are anyway separated. "
   ]
  },
  {
   "cell_type": "code",
   "execution_count": 1,
   "metadata": {},
   "outputs": [],
   "source": [
    "import h5py\n",
    "import numpy as np\n",
    "import os\n",
    "import six\n",
    "import pytest\n",
    "\n",
    "from nexusformat.nexus import *\n",
    "\n",
    "\n",
    "def printname(name):\n",
    "    print(name)"
   ]
  },
  {
   "cell_type": "markdown",
   "metadata": {},
   "source": [
    "# Read data from hdf5 file"
   ]
  },
  {
   "cell_type": "code",
   "execution_count": 2,
   "metadata": {},
   "outputs": [
    {
     "name": "stdout",
     "output_type": "stream",
     "text": [
      "axes\n",
      "axes/E\n",
      "axes/kx\n",
      "axes/ky\n",
      "axes/tpp\n",
      "binned\n",
      "binned/V\n"
     ]
    }
   ],
   "source": [
    "#Reading the volumetric binned data from hdf5 file\n",
    "in_d = h5py.File('Original Files/201805_WSe2_LCPpump_LPprobe.h5', 'r')\n",
    "#Show hdf5 hierarchy (dictionary-like syntax)\n",
    "in_d.visit(printname) # May have large output"
   ]
  },
  {
   "cell_type": "code",
   "execution_count": 3,
   "metadata": {},
   "outputs": [],
   "source": [
    "#NXarpes is designed to accept data from analysers in the shape of stacks of 2D images. I reduce the format\n",
    "#using slicing to match that.\n",
    "\n",
    "low_3D_data=in_d['binned']['V'][:,38:42,:,:].sum(axis=(1))"
   ]
  },
  {
   "cell_type": "markdown",
   "metadata": {},
   "source": [
    "# Create NXentry object"
   ]
  },
  {
   "cell_type": "markdown",
   "metadata": {},
   "source": [
    "General entry object. An entry relates to a single measurement. Parameters directly at this level contain very general information to contextualize the experiment such as proposal title, beamtime ID, et similia."
   ]
  },
  {
   "cell_type": "code",
   "execution_count": 4,
   "metadata": {},
   "outputs": [],
   "source": [
    "root=NXroot(NXentry())"
   ]
  },
  {
   "cell_type": "code",
   "execution_count": 5,
   "metadata": {},
   "outputs": [],
   "source": [
    "# Fill general parameters of NXentry\n",
    "root.entry.title=NXfield('Excited-state dynamics of WSe2 in the Valence Band and Core-Levels')\n",
    "root.entry.start_time=NXfield('2018-05-01T07:22:00+02:00')\n",
    "root.entry.definition=NXfield('NXarpes')\n",
    "\n",
    "# The following entries are not required\n",
    "root.entry.experiment_identifier=NXfield('F-20170538')\n",
    "root.entry.run_cycle=NXfield('2018 User Run Block 2')\n",
    "root.entry.entry_identifier=NXfield('Run 22118')\n",
    "root.entry.end_time=NXfield('2018-05-01T09:22:00+02:00')\n",
    "root.entry.duration=NXfield(7200, units='s')\n",
    "root.entry.collection_time=NXfield(7200, units='s')"
   ]
  },
  {
   "cell_type": "markdown",
   "metadata": {},
   "source": [
    "   ## Create NXinstrument object"
   ]
  },
  {
   "cell_type": "markdown",
   "metadata": {},
   "source": [
    "General \"Instrument\" folder. The \"instrument\" designation refers to the whole set-up. Each individual component is defined by subclasses of this. As parameters of this group, I added the ones that are referring to an overall performance of the set-up and not of its single components, like temporal, energetic and spatial resolution."
   ]
  },
  {
   "cell_type": "code",
   "execution_count": 6,
   "metadata": {},
   "outputs": [],
   "source": [
    "root.entry.instrument=NXinstrument()\n",
    "\n",
    "# The following entries are not required\n",
    "root.entry.instrument.name=NXfield('HEXTOF @ PG-2, Flash')\n",
    "root.entry.instrument.temporal_resolution=NXfield(100, units='fs')\n",
    "root.entry.instrument.spatial_resolution=NXfield(500, units='um')\n",
    "root.entry.instrument.energy_resolution=NXfield(100, units='meV')"
   ]
  },
  {
   "cell_type": "markdown",
   "metadata": {},
   "source": [
    "### Create source:NXsource object"
   ]
  },
  {
   "cell_type": "markdown",
   "metadata": {},
   "source": [
    "The \"source\" group refers to the properties of the lightsource used in the experiment, NOT the properties of the beam at the sample. This group is useful in case of complex sources such as large facilities, complex laser systems or sources with complex time structure (as in this case).\n",
    "\n",
    "We propose to use \"source\" to indicate the primary probe source to maximize the consistency across the community. Further sources in multiple beam experiment will be specifically named with names such as \"source_pump\", \"source_2\", etc."
   ]
  },
  {
   "cell_type": "code",
   "execution_count": 7,
   "metadata": {},
   "outputs": [],
   "source": [
    "root.entry.instrument.source=NXsource()"
   ]
  },
  {
   "cell_type": "code",
   "execution_count": 8,
   "metadata": {},
   "outputs": [],
   "source": [
    "root.entry.instrument.source.name=NXfield('FLASH')\n",
    "root.entry.instrument.source.type=NXfield('Free Electron Laser')\n",
    "root.entry.instrument.source.probe=NXfield('x-ray')\n",
    "\n",
    "# The following parameters are not required\n",
    "\n",
    "root.entry.instrument.source.energy=NXfield(427, units='MeV')\n",
    "root.entry.instrument.source.current=NXfield(1, units='uA')\n",
    "root.entry.instrument.source.frequency=NXfield(10, units='Hz')\n",
    "root.entry.instrument.source.mode=NXfield('Burst')\n",
    "root.entry.instrument.source.number_of_bursts=NXfield(1)\n",
    "root.entry.instrument.source.burst_length=NXfield(500, units='us')\n",
    "root.entry.instrument.source.burst_distance=NXfield(199.5, units='ms')\n",
    "root.entry.instrument.source.bunch_length=NXfield(100, units='fs')\n",
    "root.entry.instrument.source.bunch_distance=NXfield(1, units='us')\n",
    "root.entry.instrument.source.number_of_bunches=NXfield(500)\n",
    "root.entry.instrument.source.top_up=NXfield(True)\n",
    "root.entry.instrument.source.burst_number_start=NXfield(102644001)\n",
    "root.entry.instrument.source.burst_number_end=NXfield(102680129)"
   ]
  },
  {
   "cell_type": "markdown",
   "metadata": {},
   "source": [
    "A second source in a pump-probe experiment is the pump source. Creating a second group of NXsource class will not create an ambiguous hierarchy, because:\n",
    "1. the class is only an attribute, what appears in the hiearachy structure is the name\n",
    "2. definitions may require the exisistence of a group named \"source\" of \"NXsource\" class that is fully general and refers only to the probe source, and will not suffer ambiguity with the \"pump_source\""
   ]
  },
  {
   "cell_type": "code",
   "execution_count": 9,
   "metadata": {},
   "outputs": [],
   "source": [
    "root.entry.instrument.source_pump=NXsource()"
   ]
  },
  {
   "cell_type": "code",
   "execution_count": 10,
   "metadata": {},
   "outputs": [],
   "source": [
    "root.entry.instrument.source_pump.name=NXfield('User Laser @ FLASH')\n",
    "root.entry.instrument.source_pump.type=NXfield('OPCPA')\n",
    "root.entry.instrument.source_pump.probe=NXfield('NIR')\n",
    "\n",
    "# The following parameters are not required\n",
    "\n",
    "root.entry.instrument.source_pump.frequency=NXfield(10, units='Hz')\n",
    "root.entry.instrument.source_pump.mode=NXfield('Burst')\n",
    "root.entry.instrument.source_pump.number_of_bursts=NXfield(1)\n",
    "root.entry.instrument.source_pump.burst_length=NXfield(400, units='us')\n",
    "root.entry.instrument.source_pump.burst_distance=NXfield(199.6, units='ms')\n",
    "root.entry.instrument.source_pump.bunch_length=NXfield(50, units='fs')\n",
    "root.entry.instrument.source_pump.bunch_distance=NXfield(1, units='us')\n",
    "root.entry.instrument.source_pump.number_of_bunches=NXfield(400)\n",
    "root.entry.instrument.source_pump.rms_jitter=NXfield(204.68816194453154, units='fs')"
   ]
  },
  {
   "cell_type": "markdown",
   "metadata": {},
   "source": [
    "### Create beam_pump_0 object"
   ]
  },
  {
   "cell_type": "markdown",
   "metadata": {},
   "source": [
    "I reduce, but leave the beam objects because they do not interfere with the definition (they are not required/constrained), but relay important metadata. "
   ]
  },
  {
   "cell_type": "code",
   "execution_count": 11,
   "metadata": {},
   "outputs": [],
   "source": [
    "# The following class is not required\n",
    "\n",
    "root.entry.instrument.beam_pump_0=NXbeam()"
   ]
  },
  {
   "cell_type": "code",
   "execution_count": 12,
   "metadata": {},
   "outputs": [],
   "source": [
    "# The following parameters are not required\n",
    "\n",
    "root.entry.instrument.beam_pump_0.distance=NXfield(0, units='cm')\n",
    "root.entry.instrument.beam_pump_0.pulse_energy=NXfield(15.71, units='uJ')\n",
    "root.entry.instrument.beam_pump_0.average_power=NXfield(62.848, units='mW')\n",
    "root.entry.instrument.beam_pump_0.photon_energy=NXfield(1.55, units='eV')\n",
    "root.entry.instrument.beam_pump_0.center_wavelength=NXfield(800, units='nm')\n",
    "root.entry.instrument.beam_pump_0.polarization_angle=NXfield(np.nan, units='deg') # Angle of polarization ellipse \n",
    "# from plane of incidence. For circular polarization, it is not defined.\n",
    "root.entry.instrument.beam_pump_0.polarization_ellipticity=NXfield(-1.0) # Ellipticity of polarization.\n",
    "# 0 for linear, +1 for RCP, -1 for LCP.\n",
    "root.entry.instrument.beam_pump_0.size_x=NXfield(500, units='um')\n",
    "root.entry.instrument.beam_pump_0.size_y=NXfield(200, units='um')\n",
    "root.entry.instrument.beam_pump_0.fluence=NXfield(5, units='mJ/cm^2')\n",
    "root.entry.instrument.beam_pump_0.pulse_duration=NXfield(50, units='fs')"
   ]
  },
  {
   "cell_type": "markdown",
   "metadata": {},
   "source": [
    "### Create beam_probe_0 object"
   ]
  },
  {
   "cell_type": "markdown",
   "metadata": {},
   "source": [
    "Analogous structure for the probe beam."
   ]
  },
  {
   "cell_type": "code",
   "execution_count": 13,
   "metadata": {},
   "outputs": [],
   "source": [
    "# The following class is not required\n",
    "\n",
    "root.entry.instrument.beam_probe_0=NXbeam()"
   ]
  },
  {
   "cell_type": "code",
   "execution_count": 14,
   "metadata": {},
   "outputs": [],
   "source": [
    "# The following parameters are not required\n",
    "\n",
    "root.entry.instrument.beam_probe_0.distance=NXfield(0, units='cm')\n",
    "root.entry.instrument.beam_pump_0.pulse_energy=NXfield(1.24258, units='nJ')\n",
    "root.entry.instrument.beam_pump_0.average_power=NXfield(6.21289, units='uW')\n",
    "root.entry.instrument.beam_probe_0.photon_energy=NXfield(36.49699020385742, units='eV')\n",
    "root.entry.instrument.beam_probe_0.polarization_angle=NXfield(0.0, units='deg') # Angle of polarization ellipse \n",
    "# from plane of incidence. For circular polarization, it is not defined.\n",
    "root.entry.instrument.beam_probe_0.polarization_ellipticity=NXfield(0.0) # Ellipticity of polarization.\n",
    "# 0 for linear, +1 for RCP, -1 for LCP.\n",
    "root.entry.instrument.beam_probe_0.size_x=NXfield(500, units='um')\n",
    "root.entry.instrument.beam_probe_0.size_y=NXfield(200, units='um')\n",
    "root.entry.instrument.beam_probe_0.pulse_duration=NXfield(70, units='fs')"
   ]
  },
  {
   "cell_type": "markdown",
   "metadata": {},
   "source": [
    "### Create NXmonochromator object"
   ]
  },
  {
   "cell_type": "markdown",
   "metadata": {},
   "source": [
    "Group for monochromator metadata, can include specific information about motor positions etc."
   ]
  },
  {
   "cell_type": "code",
   "execution_count": 15,
   "metadata": {},
   "outputs": [],
   "source": [
    "root.entry.instrument.monochromator=NXmonochromator()\n",
    "\n",
    "# The following subclass is not required\n",
    "\n",
    "root.entry.instrument.monochromator.slit=NXslit()"
   ]
  },
  {
   "cell_type": "code",
   "execution_count": 16,
   "metadata": {},
   "outputs": [],
   "source": [
    "root.entry.instrument.monochromator.energy=NXfield(36.49699020385742, units='eV')\n",
    "\n",
    "# The following parameters are not required\n",
    "\n",
    "root.entry.instrument.monochromator.energy_error=NXfield(0.21867309510707855, units='eV')\n",
    "root.entry.instrument.monochromator.slit.y_gap=NXfield(2000.04833984375, units='um')"
   ]
  },
  {
   "cell_type": "markdown",
   "metadata": {},
   "source": [
    "### Create manipulator:NXpositioner object "
   ]
  },
  {
   "cell_type": "code",
   "execution_count": 17,
   "metadata": {},
   "outputs": [],
   "source": [
    "# The following class is not required\n",
    "\n",
    "root.entry.instrument.manipulator=NXpositioner()"
   ]
  },
  {
   "cell_type": "code",
   "execution_count": 18,
   "metadata": {},
   "outputs": [],
   "source": [
    "# The following parameters are not required\n",
    "\n",
    "root.entry.instrument.manipulator.type=NXfield('Hexapod')\n",
    "root.entry.instrument.manipulator.pos_x1=NXfield(11.3,units='um')\n",
    "root.entry.instrument.manipulator.pos_x2=NXfield(11.3,units='um')\n",
    "root.entry.instrument.manipulator.pos_y=NXfield(7.2,units='um')\n",
    "root.entry.instrument.manipulator.pos_z1=NXfield(20.77,units='um')\n",
    "root.entry.instrument.manipulator.pos_z2=NXfield(21.20,units='um')\n",
    "root.entry.instrument.manipulator.pos_z3=NXfield(20.22,units='um')\n",
    "root.entry.instrument.manipulator.sample_temperature=NXfield(300,units='K')\n",
    "root.entry.instrument.manipulator.sample_bias=NXfield(29,units='V')"
   ]
  },
  {
   "cell_type": "markdown",
   "metadata": {},
   "source": [
    "### Create NXdetector object"
   ]
  },
  {
   "cell_type": "markdown",
   "metadata": {},
   "source": [
    "NXdetector is the class of objects storing the metadata relative to the analyser"
   ]
  },
  {
   "cell_type": "code",
   "execution_count": 19,
   "metadata": {},
   "outputs": [],
   "source": [
    "# The following class is required and the name is constrained\n",
    "\n",
    "root.entry.instrument.analyser=NXdetector()"
   ]
  },
  {
   "cell_type": "code",
   "execution_count": 20,
   "metadata": {},
   "outputs": [],
   "source": [
    "root.entry.instrument.analyser.lens_mode=NXfield('20180430_KPEEM_M_-2.5_FoV6.2_rezAA_20ToF_focused.sav')\n",
    "root.entry.instrument.analyser.acquisition_mode=NXfield('fixed') # Has constrained values ('fixed' or 'swept')\n",
    "\n",
    "root.entry.instrument.analyser.entrance_slit_shape=NXfield('straight') # Has constrained values ('curved' or 'straight')\n",
    "# NB the momentum microscope does not have slit (it has apertures). But this field is constrained this way.\n",
    "\n",
    "root.entry.instrument.analyser.entrance_slit_setting=NXfield(0)\n",
    "root.entry.instrument.analyser.entrance_slit_size=NXfield(750, units='um')\n",
    "root.entry.instrument.analyser.pass_energy=NXfield(20, units='eV')\n",
    "root.entry.instrument.analyser.time_per_channel=NXfield(7200, units='s')\n",
    "\n",
    "# Follows a set of detector specific parameters. I do not know if there is software relying on NXarpes \n",
    "# definition and if it relies on the following parameters to do simple operations, so I enter logical values \n",
    "# (not from the experiment) to make the file usable.\n",
    "\n",
    "root.entry.instrument.analyser.sensor_size=NXfield([80,146]) \n",
    "root.entry.instrument.analyser.region_origin=NXfield([0,0]) \n",
    "root.entry.instrument.analyser.region_size=NXfield([80,146]) \n",
    "\n",
    "\n",
    "# In  NXarpes the data are saved in the NXdetector group, and then linked in the NXdata one.\n",
    "# I see a major issue here, restricting the use of the definition.\n",
    "# It requires two axes: angles and energies. Angles is an intermediate quantity, as the final data are in\n",
    "# wavenumber units. The momentum microscope does not have a reliable calibration for angles, we scle directly\n",
    "# to k. Also, the simple naming: \"angles\" can create ambiguity even for a tilt map with an hemispherical\n",
    "# where 2 angular axes are scanned.\n",
    "\n",
    "root.entry.instrument.analyser.angles=NXfield(in_d['axes']['kx'],units='1/Å') \n",
    "root.entry.instrument.analyser.energies=NXfield(in_d['axes']['E'],name='Energy',units='eV')\n",
    "root.entry.instrument.analyser.data=NXfield(low_3D_data,units='counts') \n",
    "\n",
    "# The following parameters are not required\n",
    "\n",
    "root.entry.instrument.analyser.delays=NXfield(in_d['axes']['tpp'],name='Pump-probe delay',units='fs')\n",
    "\n",
    "root.entry.instrument.analyser.extractor_voltage=NXfield(6030, units='V')\n",
    "root.entry.instrument.analyser.working_distance=NXfield(4, units='mm')\n",
    "root.entry.instrument.analyser.projection=NXfield('reciprocal')\n",
    "root.entry.instrument.analyser.magnification=NXfield(-1.5)\n",
    "root.entry.instrument.analyser.field_aperture_x=NXfield(-0.200, units='um')\n",
    "root.entry.instrument.analyser.field_aperture_y=NXfield(5.350, units='um')\n",
    "root.entry.instrument.analyser.contrast_aperture=NXfield('Out')\n",
    "root.entry.instrument.analyser.dispersion_scheme=NXfield('Time of flight')\n",
    "root.entry.instrument.analyser.amplifier_type=NXfield('MCP')\n",
    "root.entry.instrument.analyser.detector_type=NXfield('DLD')\n",
    "root.entry.instrument.analyser.sensor_count=NXfield(4)"
   ]
  },
  {
   "cell_type": "markdown",
   "metadata": {},
   "source": [
    "## Create NXsample object"
   ]
  },
  {
   "cell_type": "markdown",
   "metadata": {},
   "source": [
    "NXsample is a base class (only subordinate to entry) where information regarding the sample is stored. Note that the temperature is cross linked from the sample_temperature field in the manipulator, as an example of cross linking data from NXinstrument hierarchy in more elevated and descriptive hierarchy positions."
   ]
  },
  {
   "cell_type": "code",
   "execution_count": 21,
   "metadata": {},
   "outputs": [],
   "source": [
    "root.entry.sample=NXsample()"
   ]
  },
  {
   "cell_type": "code",
   "execution_count": 22,
   "metadata": {},
   "outputs": [],
   "source": [
    "root.entry.sample.name=NXfield('WSe2')\n",
    "root.entry.sample.temperature=NXlink(root.entry.instrument.manipulator.sample_temperature)\n",
    "\n",
    "# The following parameters are not required\n",
    "\n",
    "root.entry.sample.state=NXfield('monocrystalline solid')\n",
    "root.entry.sample.purity=NXfield(0.999)\n",
    "root.entry.sample.surface_orientation=NXfield('0001')\n",
    "root.entry.sample.layer=NXfield('bulk')\n",
    "root.entry.sample.chemical_name=NXfield('Tungsten diselenide')\n",
    "root.entry.sample.chem_id_cas=NXfield('12067-46-8')\n",
    "root.entry.sample.pressure=NXfield(3.27e-10, units='mbar')\n",
    "root.entry.sample.thickness=NXfield(0.5, units='mm')\n",
    "root.entry.sample.bias=NXlink(root.entry.instrument.manipulator.sample_bias)\n",
    "root.entry.sample.growth_method=NXfield('Chemical Vapor Deposition')\n",
    "root.entry.sample.preparation_method=NXfield('in-vacuum cleave')\n",
    "root.entry.sample.vendor=NXfield('HQ Graphene')"
   ]
  },
  {
   "cell_type": "markdown",
   "metadata": {},
   "source": [
    "## Create NXdata object"
   ]
  },
  {
   "cell_type": "markdown",
   "metadata": {},
   "source": [
    "Main data group containing the data relevant for the entry. The calibrated axes on which it should be plotted are linked from the NXinstrument:NXdetector group, where they are stored.\n",
    "\n",
    "NXfield inherits data allocation fro h5py. When data is above a cerain size, it divides it in chunks for better memory stability. It also automatically applies a lossless compression. While the chunking may be desirable in this situation, compression may be not. Changing the \"compression_opts\" number between 0 and 9 allows to go from, respectively, no compression to maximum compression."
   ]
  },
  {
   "cell_type": "code",
   "execution_count": 23,
   "metadata": {},
   "outputs": [],
   "source": [
    "# Create the NXdata object\n",
    "kx=NXlink(root.entry.instrument.analyser.angles)\n",
    "E=NXlink(root.entry.instrument.analyser.energies)\n",
    "tpp=NXlink(root.entry.instrument.analyser.delays)\n",
    "counts=NXlink(root.entry.instrument.analyser.data)"
   ]
  },
  {
   "cell_type": "code",
   "execution_count": 24,
   "metadata": {},
   "outputs": [],
   "source": [
    "# Wrap the NXfields in a NXdata object\n",
    "root.entry.data=NXdata(counts,[kx,E,tpp]) "
   ]
  },
  {
   "cell_type": "markdown",
   "metadata": {},
   "source": [
    "# Save File"
   ]
  },
  {
   "cell_type": "markdown",
   "metadata": {},
   "source": [
    "The saving command wraps all the fields, groups and data with the attributes according to NeXus Standard and saves in an h5."
   ]
  },
  {
   "cell_type": "code",
   "execution_count": 25,
   "metadata": {},
   "outputs": [
    {
     "data": {
      "text/plain": [
       "NXroot('root')"
      ]
     },
     "execution_count": 25,
     "metadata": {},
     "output_type": "execute_result"
    }
   ],
   "source": [
    "root.save('201805_WSe2_arpes.nxs', mode='w')"
   ]
  }
 ],
 "metadata": {
  "kernelspec": {
   "display_name": "Python 3",
   "language": "python",
   "name": "python3"
  },
  "language_info": {
   "codemirror_mode": {
    "name": "ipython",
    "version": 3
   },
   "file_extension": ".py",
   "mimetype": "text/x-python",
   "name": "python",
   "nbconvert_exporter": "python",
   "pygments_lexer": "ipython3",
   "version": "3.8.2"
  }
 },
 "nbformat": 4,
 "nbformat_minor": 4
}
