{
 "cells": [
  {
   "cell_type": "markdown",
   "metadata": {},
   "source": [
    "###### Extended NeXus hierarchy for ARPES experiments\n",
    "\n",
    "This notebook is built as a demonstrator, it collects data and metadata from a Beamtime performed at FLASH by the Structural and Electronic Surface Dynamics and Dynamics of Correlated Materials groups of the Physical Chemistry department of the Fritz-Haber-Institute. \n",
    "\n",
    "It is designed to:\n",
    "1. showcase the capabilities of NeXus hierarchy in a real-world application\n",
    "2. create a shared dictionary of items in the hierarchy for metadata of ARPES experiments\n",
    "3. provide a tool for the conversion to NeXus of data and metadata from experiments where metadata cannot be automatically parsed.\n",
    "\n",
    "For this, I hand picked the parameters from a combination of a logbook, a preprocessed data file, a raw file containing the data from FLASH and two files containing the metadata from the data processing software. If Nexus format is accepted higher forms of automation will be implemented.\n",
    "\n",
    "I tried to create an entry for every piece of information that might be available and relevant for an ARPES experiment. Where I could not find information in the metadata, I still added the field, but filled with NaN or \"Not found\" strings."
   ]
  },
  {
   "cell_type": "code",
   "execution_count": 1,
   "metadata": {},
   "outputs": [],
   "source": [
    "import h5py\n",
    "import numpy as np\n",
    "import os\n",
    "import six\n",
    "import pytest\n",
    "\n",
    "from nexusformat.nexus import *\n",
    "\n",
    "\n",
    "def printname(name):\n",
    "    print(name)\n",
    "\n",
    "# Packages needed to parse naive date in unix timestamp univocally\n",
    "\n",
    "import pytz\n",
    "from timezonefinder import TimezoneFinder\n",
    "tf = TimezoneFinder()\n",
    "from datetime import datetime as dt\n",
    "from datetime import date as d\n",
    "from datetime import timedelta as td\n",
    "    \n",
    "# Routine to calculate the unix timestamp a posteriori from naive date \n",
    "# (not timezone and daylight saving time aware) and geographical location.\n",
    "\n",
    "def naivedate2stamp(longitude,latitude,datestring):\n",
    "    localmoment_naive = dt.strptime(datestring, '%Y-%m-%dT%H:%M:%S')\n",
    "    localmoment_zone = pytz.timezone(tf.timezone_at(lng=longitude,lat=latitude))\n",
    "    epochmoment_aware = pytz.utc.localize(dt(1970,1,1,0,0,0),is_dst=False)\n",
    "    try:\n",
    "        localmoment_aware = localmoment_zone.localize(localmoment_naive, is_dst=None)\n",
    "        utcmoment_aware = localmoment_aware.astimezone(pytz.utc)\n",
    "        unixmoment = (utcmoment_aware-epochmoment_aware)/td(seconds=1.0)\n",
    "        return unixmoment\n",
    "    except pytz.exceptions.NonExistentTimeError as e:\n",
    "        print(\"NonExistentTimeError\")\n",
    "        return np.nan"
   ]
  },
  {
   "cell_type": "markdown",
   "metadata": {},
   "source": [
    "# Read data from hdf5 file"
   ]
  },
  {
   "cell_type": "code",
   "execution_count": 2,
   "metadata": {},
   "outputs": [
    {
     "name": "stdout",
     "output_type": "stream",
     "text": [
      "axes\n",
      "axes/E\n",
      "axes/kx\n",
      "axes/ky\n",
      "axes/tpp\n",
      "binned\n",
      "binned/V\n"
     ]
    }
   ],
   "source": [
    "#Reading the volumetric binned data from hdf5 file\n",
    "in_d = h5py.File('Original Files/201805_WSe2_LCPpump_LPprobe.h5', 'r')\n",
    "#Show hdf5 hierarchy (dictionary-like syntax)\n",
    "in_d.visit(printname) # May have large output"
   ]
  },
  {
   "cell_type": "markdown",
   "metadata": {},
   "source": [
    "# Create NXentry object"
   ]
  },
  {
   "cell_type": "markdown",
   "metadata": {},
   "source": [
    "General entry object. An entry relates to a single measurement. Parameters directly at this level contain very general information to contextualize the experiment such as proposal title, beamtime ID, et similia."
   ]
  },
  {
   "cell_type": "code",
   "execution_count": 3,
   "metadata": {},
   "outputs": [],
   "source": [
    "root=NXroot(NXentry())"
   ]
  },
  {
   "cell_type": "code",
   "execution_count": 4,
   "metadata": {},
   "outputs": [],
   "source": [
    "# Fill general parameters of NXentry\n",
    "root.entry.experiment_title=NXfield('Excited-state dynamics of WSe2 in the Valence Band and Core-Levels')\n",
    "root.entry.experiment_location=NXfield('Hamburg, Germany')\n",
    "root.entry.experiment_geotag=NXfield([9.8813158,53.580646], units='deg')\n",
    "# The geotag might seem excessive, but it is the only way to retrieve univocally the timestamp\n",
    "# if the dates are naive. The list contains first latitude, then longitude. \n",
    "root.entry.experiment_start_date=NXfield('2018-04-23T00:00:00')\n",
    "start_tstamp=naivedate2stamp(root.entry.experiment_geotag[0],root.entry.experiment_geotag[1],\\\n",
    "                             str(root.entry.experiment_start_date))\n",
    "root.entry.experiment_start_date_timestamp=NXfield(start_tstamp, units='s')\n",
    "root.entry.experiment_end_date=NXfield('2018-05-03T00:00:00')\n",
    "end_tstamp=naivedate2stamp(root.entry.experiment_geotag[0],root.entry.experiment_geotag[1],\\\n",
    "                           str(root.entry.experiment_start_date))\n",
    "root.entry.experiment_end_date_timestamp=NXfield(end_tstamp, units='s')\n",
    "# hdf5 cannot recognize datetime formats, so we propose to store dates as ISO8601\n",
    "# i.e. as a string with the format yyyy-mm-ddThh:mm:ss.\n",
    "# For improved machine readability, it is also possible to save the unix timestamp.\n",
    "# A posteriori timestamping can be done using the converson tool demonstrated here.\n",
    "root.entry.experiment_summary=NXfield('Charachterization of WSe2 electronic structure evolution \\\n",
    "with soft X-ray probe and NIR pump, measuring shallow core-levels and valence band. \\\n",
    "Pump polarization is changed through various states.')\n",
    "root.entry.experiment_identifier=NXfield('F-20170538')\n",
    "root.entry.experiment_run_cycle=NXfield('2018 User Run Block 2')\n",
    "root.entry.experiment_institution=NXfield('Deutsches Elektronen Synchrotron - Helmholtz-Gemeinschaft')\n",
    "root.entry.experiment_facility=NXfield('FLASH')\n",
    "root.entry.experiment_laboratory=NXfield('PG2')\n",
    "root.entry.entry_title=NXfield('Left Circularly Polarized Pump - Linearly Polarized Probe - Valence Band Dynamics')\n",
    "root.entry.entry_identifier=NXfield('Run 22118')\n",
    "root.entry.entry_start_time=NXfield('2018-05-01T07:22:00')\n",
    "meas_start_tstamp=naivedate2stamp(root.entry.experiment_geotag[0],root.entry.experiment_geotag[1],\\\n",
    "                             str(root.entry.entry_start_time))\n",
    "root.entry.entry_start_time_timestamp=NXfield(meas_start_tstamp, units='s')\n",
    "root.entry.entry_end_time=NXfield('2018-05-01T09:22:00')\n",
    "meas_end_tstamp=naivedate2stamp(root.entry.experiment_geotag[0],root.entry.experiment_geotag[1],\\\n",
    "                             str(root.entry.entry_start_time))\n",
    "root.entry.entry_start_time_timestamp=NXfield(meas_start_tstamp, units='s')\n",
    "root.entry.entry_duration=NXfield(7200, units='s')\n",
    "root.entry.entry_collection_time=NXfield(7200, units='s')"
   ]
  },
  {
   "cell_type": "markdown",
   "metadata": {},
   "source": [
    "## Create NXuser object"
   ]
  },
  {
   "cell_type": "markdown",
   "metadata": {},
   "source": [
    "User parameter folder. Contains information on the user."
   ]
  },
  {
   "cell_type": "code",
   "execution_count": 5,
   "metadata": {},
   "outputs": [],
   "source": [
    "root.entry.user=NXuser()"
   ]
  },
  {
   "cell_type": "code",
   "execution_count": 6,
   "metadata": {},
   "outputs": [],
   "source": [
    "# Fill general parameters of NXuser\n",
    "root.entry.user.name=NXfield('Hex')\n",
    "root.entry.user.role=NXfield('Not Found')\n",
    "root.entry.user.affiliation=NXfield('Not Found')\n",
    "root.entry.user.address=NXfield('Not Found')\n",
    "root.entry.user.telephone_number=NXfield('Not found')\n",
    "root.entry.user.email=NXfield('Not found')\n",
    "root.entry.user.facility_user_id=NXfield('Not found')"
   ]
  },
  {
   "cell_type": "markdown",
   "metadata": {},
   "source": [
    "   ## Create NXinstrument object"
   ]
  },
  {
   "cell_type": "markdown",
   "metadata": {},
   "source": [
    "General \"Instrument\" folder. The \"instrument\" designation refers to the whole set-up. Each individual component is defined by subclasses of this. As parameters of this group, I added the ones that are referring to an overall performance of the set-up and not of its single components, like temporal, energetic and spatial resolution."
   ]
  },
  {
   "cell_type": "code",
   "execution_count": 7,
   "metadata": {},
   "outputs": [],
   "source": [
    "root.entry.instrument=NXinstrument()"
   ]
  },
  {
   "cell_type": "code",
   "execution_count": 8,
   "metadata": {},
   "outputs": [],
   "source": [
    "# Fill general parameters of NXinstrument\n",
    "root.entry.instrument.instrument_name=NXfield('HEXTOF @ PG-2')\n",
    "root.entry.instrument.instrument_temporal_resolution=NXfield(100, units='fs')\n",
    "root.entry.instrument.instrument_spatial_resolution=NXfield(500, units='um')\n",
    "root.entry.instrument.instrument_energy_resolution=NXfield(100, units='meV')\n",
    "root.entry.instrument.instrument_description=NXfield('Time-of-flight momentum microscope equipped with two level hexagonal delay line detector, at the endstation of beamline PG-2 of FLASH')"
   ]
  },
  {
   "cell_type": "markdown",
   "metadata": {},
   "source": [
    "### Create source:NXsource object"
   ]
  },
  {
   "cell_type": "markdown",
   "metadata": {},
   "source": [
    "The \"source\" group refers to the properties of the lightsource used in the experiment, NOT the properties of the beam at the sample. This group is useful in case of complex sources such as large facilities, complex laser systems or sources with complex time structure (as in this case).\n",
    "\n",
    "We propose to use \"source\" to indicate the primary probe source to maximize the consistency across the community. Further sources in multiple beam experiment will be specifically named with names such as \"source_pump\", \"source_2\", etc."
   ]
  },
  {
   "cell_type": "code",
   "execution_count": 9,
   "metadata": {},
   "outputs": [],
   "source": [
    "root.entry.instrument.source=NXsource()"
   ]
  },
  {
   "cell_type": "code",
   "execution_count": 10,
   "metadata": {},
   "outputs": [],
   "source": [
    "root.entry.instrument.source.name=NXfield('FLASH')\n",
    "root.entry.instrument.source.type=NXfield('Free Electron Laser')\n",
    "root.entry.instrument.source.probe=NXfield('x-ray')\n",
    "root.entry.instrument.source.photon_energy=NXfield(36.41060, units='eV')\n",
    "root.entry.instrument.source.pulse_energy=NXfield(1.65677118301392, units='uJ')\n",
    "root.entry.instrument.source.center_wavelength=NXfield(34.05168, units='nm')\n",
    "root.entry.instrument.source.average_power=NXfield(8.28385591506958, units='mW')\n",
    "root.entry.instrument.source.peak_power=NXfield(23.6681597573417, units='MW')\n",
    "root.entry.instrument.source.emittance_x=NXfield(1.4, units='um')\n",
    "root.entry.instrument.source.emittance_y=NXfield(1.4, units='um')\n",
    "root.entry.instrument.source.size_x=NXfield(np.nan, units='um')\n",
    "root.entry.instrument.source.size_y=NXfield(np.nan, units='um')\n",
    "root.entry.instrument.source.flux=NXfield(4.569e17, units='1/(s cm^2)')\n",
    "root.entry.instrument.source.energy=NXfield(427, units='MeV')\n",
    "root.entry.instrument.source.current=NXfield(1, units='uA')\n",
    "root.entry.instrument.source.frequency=NXfield(10, units='Hz')\n",
    "root.entry.instrument.source.pulse_duration=NXfield(70, units='fs')\n",
    "source_photon_energy=NXfield(shape=(1000),dtype=np.float32,fillervalue=np.nan,name='Photon energy',units='eV')\n",
    "source_photon_counts=NXfield(shape=(1000),dtype=np.float32,fillervalue=np.nan,name='Intensity',units='cts')\n",
    "root.entry.instrument.source.spectrum=NXdata(source_photon_counts,source_photon_energy)\n",
    "# Owing to the complex timestructure of DESY pulses, I had to distinguish between bursts (10 Hz) and bunches (1 MHz)\n",
    "root.entry.instrument.source.mode=NXfield('Burst')\n",
    "root.entry.instrument.source.number_of_bursts=NXfield(1)\n",
    "root.entry.instrument.source.burst_length=NXfield(500, units='us')\n",
    "root.entry.instrument.source.burst_distance=NXfield(199.5, units='ms')\n",
    "root.entry.instrument.source.bunch_length=NXfield(100, units='fs')\n",
    "root.entry.instrument.source.bunch_distance=NXfield(1, units='us')\n",
    "root.entry.instrument.source.number_of_bunches=NXfield(500)\n",
    "root.entry.instrument.source.top_up=NXfield(True)\n",
    "source_bunch_time=NXfield(shape=(1000),dtype=np.float32,fillervalue=np.nan,name='Time',units='ps')\n",
    "source_bunch_count=NXfield(shape=(1000),dtype=np.float32,fillervalue=np.nan,name='Bunches',units='cts')\n",
    "root.entry.instrument.source.bunch_pattern=NXdata(source_bunch_count,source_bunch_time)\n",
    "root.entry.instrument.source.burst_number_start=NXfield(102644001)\n",
    "root.entry.instrument.source.burst_number_end=NXfield(102680129)"
   ]
  },
  {
   "cell_type": "markdown",
   "metadata": {},
   "source": [
    "### Create source_pump:NXsource object"
   ]
  },
  {
   "cell_type": "markdown",
   "metadata": {},
   "source": [
    "A second source in a pump-probe experiment is the pump source. Creating a second group of NXsource class will not create an ambiguous hierarchy, because:\n",
    "1. the class is only an attribute, what appears in the hiearachy structure is the name\n",
    "2. definitions may require the exisistence of a group named \"source\" of \"NXsource\" class that is fully general and refers only to the probe source, and will not suffer ambiguity with the \"pump_source\""
   ]
  },
  {
   "cell_type": "code",
   "execution_count": 11,
   "metadata": {},
   "outputs": [],
   "source": [
    "root.entry.instrument.source_pump=NXsource()"
   ]
  },
  {
   "cell_type": "code",
   "execution_count": 12,
   "metadata": {},
   "outputs": [],
   "source": [
    "root.entry.instrument.source_pump.name=NXfield('User Laser @ FLASH')\n",
    "root.entry.instrument.source_pump.type=NXfield('OPCPA')\n",
    "root.entry.instrument.source_pump.probe=NXfield('NIR')\n",
    "root.entry.instrument.source_pump.photon_energy=NXfield(1.55, units='eV')\n",
    "root.entry.instrument.source_pump.pulse_energy=NXfield(98.2, units='uJ')\n",
    "root.entry.instrument.source_pump.center_wavelength=NXfield(800, units='nm')\n",
    "root.entry.instrument.source_pump.average_power=NXfield(392.8, units='mW')\n",
    "root.entry.instrument.source_pump.peak_power=NXfield(1.964, units='GW')\n",
    "root.entry.instrument.source_pump.frequency=NXfield(10, units='Hz')\n",
    "root.entry.instrument.source_pump.pulse_duration=NXfield(50, units='fs')\n",
    "pump_photon_energy=NXfield(shape=(1000),dtype=np.float32,fillervalue=np.nan,name='Photon energy',units='eV')\n",
    "pump_photon_counts=NXfield(shape=(1000),dtype=np.float32,fillervalue=np.nan,name='Intensity',units='cts')\n",
    "root.entry.instrument.source_pump.spectrum=NXdata(pump_photon_counts,pump_photon_energy)\n",
    "root.entry.instrument.source_pump.mode=NXfield('Burst')\n",
    "root.entry.instrument.source_pump.number_of_bursts=NXfield(1)\n",
    "root.entry.instrument.source_pump.burst_length=NXfield(400, units='us')\n",
    "root.entry.instrument.source_pump.burst_distance=NXfield(199.6, units='ms')\n",
    "root.entry.instrument.source_pump.bunch_length=NXfield(50, units='fs')\n",
    "root.entry.instrument.source_pump.bunch_distance=NXfield(1, units='us')\n",
    "root.entry.instrument.source_pump.number_of_bunches=NXfield(400)\n",
    "root.entry.instrument.source_pump.rms_jitter=NXfield(204.68816194453154, units='fs')\n",
    "pump_bunch_time=NXfield(shape=(1000),dtype=np.float32,fillervalue=np.nan,name='Time',units='ps')\n",
    "pump_bunch_count=NXfield(shape=(1000),dtype=np.float32,fillervalue=np.nan,name='Bunches',units='cts')\n",
    "root.entry.instrument.source_pump.bunch_pattern=NXdata(pump_bunch_count,pump_bunch_time)"
   ]
  },
  {
   "cell_type": "markdown",
   "metadata": {},
   "source": [
    "### Create beam_pump_0 object"
   ]
  },
  {
   "cell_type": "markdown",
   "metadata": {},
   "source": [
    "To define the beam properties at the sample location, the most appropriate tool in the NeXus hierarchy is NXbeam. It is designed to define the beam properties at any point where metadata are collected in a beamline. The first entry is the distance from the sample, so I propose the naming convention \"beam_pump_n\" or \"beam_probe_n\" where n is the distance from the sample in cm."
   ]
  },
  {
   "cell_type": "code",
   "execution_count": 13,
   "metadata": {},
   "outputs": [],
   "source": [
    "root.entry.instrument.beam_pump_0=NXbeam()"
   ]
  },
  {
   "cell_type": "code",
   "execution_count": 14,
   "metadata": {},
   "outputs": [],
   "source": [
    "root.entry.instrument.beam_pump_0.distance=NXfield(0, units='cm')\n",
    "root.entry.instrument.beam_pump_0.pulse_energy=NXfield(15.71, units='uJ')\n",
    "root.entry.instrument.beam_pump_0.average_power=NXfield(62.848, units='mW')\n",
    "root.entry.instrument.beam_pump_0.photon_energy=NXfield(1.55, units='eV')\n",
    "root.entry.instrument.beam_pump_0.center_wavelength=NXfield(800, units='nm')\n",
    "root.entry.instrument.beam_pump_0.polarization_angle=NXfield(np.nan, units='deg') # Angle of polarization ellipse \n",
    "# from plane of incidence. For circular polarization, it is not defined.\n",
    "root.entry.instrument.beam_pump_0.polarization_ellipticity=NXfield(-1.0) # Ellipticity of polarization.\n",
    "# 0 for linear, +1 for RCP, -1 for LCP.\n",
    "root.entry.instrument.beam_pump_0.size_x=NXfield(500, units='um')\n",
    "root.entry.instrument.beam_pump_0.size_y=NXfield(200, units='um')\n",
    "root.entry.instrument.beam_pump_0.fluence=NXfield(5, units='mJ/cm^2')\n",
    "root.entry.instrument.beam_pump_0.pulse_duration=NXfield(50, units='fs')\n",
    "# Parameters to define pulse chirp\n",
    "pump_frequency=NXfield(shape=(1000),dtype=np.float32,fillervalue=np.nan,name='Frequency',units='nm')\n",
    "pump_rel_time=NXfield(shape=(1000),dtype=np.float32,fillervalue=np.nan,name='Time relative to pulse center',units='fs')\n",
    "root.entry.instrument.beam_pump_0.chirp_spectrum=NXdata(pump_frequency,pump_rel_time)\n",
    "root.entry.instrument.beam_pump_0.chirp_type=NXfield('None')\n",
    "root.entry.instrument.beam_pump_0.chirp_GDD=NXfield(np.nan, units='fs^2') # Constant for linear chirp"
   ]
  },
  {
   "cell_type": "markdown",
   "metadata": {},
   "source": [
    "### Create beam_probe_0 object"
   ]
  },
  {
   "cell_type": "markdown",
   "metadata": {},
   "source": [
    "Analogous structure for the probe beam."
   ]
  },
  {
   "cell_type": "code",
   "execution_count": 15,
   "metadata": {},
   "outputs": [],
   "source": [
    "root.entry.instrument.beam_probe_0=NXbeam()"
   ]
  },
  {
   "cell_type": "code",
   "execution_count": 16,
   "metadata": {},
   "outputs": [],
   "source": [
    "root.entry.instrument.beam_probe_0.distance=NXfield(0, units='cm')\n",
    "root.entry.instrument.beam_pump_0.pulse_energy=NXfield(1.24258, units='nJ')\n",
    "root.entry.instrument.beam_pump_0.average_power=NXfield(6.21289, units='uW')\n",
    "root.entry.instrument.beam_probe_0.photon_energy=NXfield(36.49699020385742, units='eV')\n",
    "root.entry.instrument.beam_probe_0.polarization_angle=NXfield(0.0, units='deg') # Angle of polarization ellipse \n",
    "# from plane of incidence. For circular polarization, it is not defined.\n",
    "root.entry.instrument.beam_probe_0.polarization_ellipticity=NXfield(0.0) # Ellipticity of polarization.\n",
    "# 0 for linear, +1 for RCP, -1 for LCP.\n",
    "root.entry.instrument.beam_probe_0.size_x=NXfield(500, units='um')\n",
    "root.entry.instrument.beam_probe_0.size_y=NXfield(200, units='um')\n",
    "root.entry.instrument.beam_probe_0.fluence=NXfield(np.nan, units='mJ/cm^2')\n",
    "root.entry.instrument.beam_probe_0.pulse_duration=NXfield(70, units='fs')\n",
    "# Parameters for pulse chirp\n",
    "probe_frequency=NXfield(shape=(1000),dtype=np.float32,fillervalue=np.nan,name='Frequency',units='nm')\n",
    "probe_rel_time=NXfield(shape=(1000),dtype=np.float32,fillervalue=np.nan,name='Time relative to pulse center',units='fs')\n",
    "root.entry.instrument.beam_probe_0.chirp_spectrum=NXdata(pump_frequency,pump_rel_time)\n",
    "root.entry.instrument.beam_probe_0.chirp_type=NXfield('None')\n",
    "root.entry.instrument.beam_probe_0.chirp_GDD=NXfield(np.nan, units='1/s^2') # Constant for linear chirp"
   ]
  },
  {
   "cell_type": "markdown",
   "metadata": {},
   "source": [
    "### Create NXslit object"
   ]
  },
  {
   "cell_type": "markdown",
   "metadata": {},
   "source": [
    "X-ray sources often have beam shaping apertures that can be used to control beam properties."
   ]
  },
  {
   "cell_type": "code",
   "execution_count": 17,
   "metadata": {},
   "outputs": [],
   "source": [
    "root.entry.instrument.slit_WAU=NXslit()"
   ]
  },
  {
   "cell_type": "code",
   "execution_count": 18,
   "metadata": {},
   "outputs": [],
   "source": [
    "root.entry.instrument.slit_WAU.x_gap=NXfield(0.44, units='mm')\n",
    "root.entry.instrument.slit_WAU.y_gap=NXfield(0.447, units='mm')\n",
    "root.entry.instrument.slit_WAU.x_pos=NXfield(16, units='mm')\n",
    "root.entry.instrument.slit_WAU.y_pos=NXfield(0.5, units='mm')"
   ]
  },
  {
   "cell_type": "markdown",
   "metadata": {},
   "source": [
    "### Create NXmonochromator object"
   ]
  },
  {
   "cell_type": "markdown",
   "metadata": {},
   "source": [
    "Group for monochromator metadata, can include specific information about motor positions etc."
   ]
  },
  {
   "cell_type": "code",
   "execution_count": 19,
   "metadata": {},
   "outputs": [],
   "source": [
    "root.entry.instrument.monochromator=NXmonochromator()\n",
    "root.entry.instrument.monochromator.slit=NXslit()\n",
    "root.entry.instrument.monochromator.grating=NXgrating()"
   ]
  },
  {
   "cell_type": "code",
   "execution_count": 20,
   "metadata": {},
   "outputs": [],
   "source": [
    "root.entry.instrument.monochromator.energy=NXfield(36.49699020385742, units='eV')\n",
    "root.entry.instrument.monochromator.energy_error=NXfield(0.21867309510707855, units='eV')\n",
    "root.entry.instrument.monochromator.grating.dispersion=NXfield(0.10933390259742737, units='eV/mm')\n",
    "root.entry.instrument.monochromator.slit.y_gap=NXfield(2000.04833984375, units='um')"
   ]
  },
  {
   "cell_type": "markdown",
   "metadata": {},
   "source": [
    "### Create NXattenuator objects"
   ]
  },
  {
   "cell_type": "markdown",
   "metadata": {},
   "source": [
    "Many sources are not easily dimmable and require attenuators. NeXus hierachy does not include the \"type\" and \"thickness/pressure\" properties that are necessary for Soft-X/UV attenuators."
   ]
  },
  {
   "cell_type": "code",
   "execution_count": 21,
   "metadata": {},
   "outputs": [],
   "source": [
    "root.entry.instrument.attenuator_gas=NXattenuator()"
   ]
  },
  {
   "cell_type": "code",
   "execution_count": 22,
   "metadata": {},
   "outputs": [],
   "source": [
    "root.entry.instrument.attenuator_gas.type=NXfield('Gas')\n",
    "root.entry.instrument.attenuator_gas.material=NXfield('Argon')\n",
    "root.entry.instrument.attenuator_gas.pressure=NXfield(0.008980000391602516,units='mbar')\n",
    "root.entry.instrument.attenuator_gas.status=NXfield('in')"
   ]
  },
  {
   "cell_type": "code",
   "execution_count": 23,
   "metadata": {},
   "outputs": [],
   "source": [
    "root.entry.instrument.attenuator_al1=NXattenuator()"
   ]
  },
  {
   "cell_type": "code",
   "execution_count": 24,
   "metadata": {},
   "outputs": [],
   "source": [
    "root.entry.instrument.attenuator_al1.type=NXfield('Freestanding film')\n",
    "root.entry.instrument.attenuator_al1.material=NXfield('Aluminium')\n",
    "root.entry.instrument.attenuator_al1.thickness=NXfield(2043,units='nm')\n",
    "root.entry.instrument.attenuator_al1.status=NXfield('Out')"
   ]
  },
  {
   "cell_type": "code",
   "execution_count": 25,
   "metadata": {},
   "outputs": [],
   "source": [
    "root.entry.instrument.attenuator_al2=NXattenuator()"
   ]
  },
  {
   "cell_type": "code",
   "execution_count": 26,
   "metadata": {},
   "outputs": [],
   "source": [
    "root.entry.instrument.attenuator_al2.type=NXfield('Freestanding film')\n",
    "root.entry.instrument.attenuator_al2.material=NXfield('Aluminium')\n",
    "root.entry.instrument.attenuator_al2.thickness=NXfield(960,units='nm')\n",
    "root.entry.instrument.attenuator_al2.status=NXfield('in')"
   ]
  },
  {
   "cell_type": "code",
   "execution_count": 27,
   "metadata": {},
   "outputs": [],
   "source": [
    "root.entry.instrument.attenuator_pump=NXattenuator()"
   ]
  },
  {
   "cell_type": "code",
   "execution_count": 28,
   "metadata": {},
   "outputs": [],
   "source": [
    "root.entry.instrument.attenuator_pump.type=NXfield('Waveplate-Polarizer')\n",
    "root.entry.instrument.attenuator_pump.position=NXfield(1.4112176722846925E-4, units='deg')\n",
    "root.entry.instrument.attenuator_pump.attenuation=NXfield(0.84)\n",
    "root.entry.instrument.attenuator_pump.status=NXfield('in')"
   ]
  },
  {
   "cell_type": "markdown",
   "metadata": {},
   "source": [
    "### Create manipulator:NXpositioner object "
   ]
  },
  {
   "cell_type": "markdown",
   "metadata": {},
   "source": [
    "NXpositioner is the class which I assume is designed for objects such as manipulators and other micromotors. I added a \"type\" field, as you generally can have either Hexapods (which have six translational axes, like the present case) or Rod manipulators. Since often Hexapods also have a way of converting the translations into angles, I also included the angular coordinates.  "
   ]
  },
  {
   "cell_type": "code",
   "execution_count": 29,
   "metadata": {},
   "outputs": [],
   "source": [
    "root.entry.instrument.manipulator=NXpositioner()"
   ]
  },
  {
   "cell_type": "code",
   "execution_count": 30,
   "metadata": {},
   "outputs": [],
   "source": [
    "root.entry.instrument.manipulator.type=NXfield('Hexapod')\n",
    "root.entry.instrument.manipulator.pos_x1=NXfield(11.3,units='um')\n",
    "root.entry.instrument.manipulator.pos_x2=NXfield(11.3,units='um')\n",
    "root.entry.instrument.manipulator.pos_y=NXfield(7.2,units='um')\n",
    "root.entry.instrument.manipulator.pos_z1=NXfield(20.77,units='um')\n",
    "root.entry.instrument.manipulator.pos_z2=NXfield(21.20,units='um')\n",
    "root.entry.instrument.manipulator.pos_z3=NXfield(20.22,units='um')\n",
    "root.entry.instrument.manipulator.pos_azimuth=NXfield(np.nan,units='deg')\n",
    "root.entry.instrument.manipulator.pos_tilt=NXfield(np.nan,units='deg')\n",
    "root.entry.instrument.manipulator.pos_polar=NXfield(np.nan,units='deg')\n",
    "root.entry.instrument.manipulator.cryocoolant=NXfield('None')\n",
    "root.entry.instrument.manipulator.cryostat_temperature=NXfield(300,units='K')\n",
    "root.entry.instrument.manipulator.sample_temperature=NXfield(300,units='K')\n",
    "root.entry.instrument.manipulator.drain_current=NXfield(np.nan,units='pA')\n",
    "root.entry.instrument.manipulator.sample_bias=NXfield(29,units='V')\n",
    "root.entry.instrument.manipulator.heater_power=NXfield(0,units='W')"
   ]
  },
  {
   "cell_type": "markdown",
   "metadata": {},
   "source": [
    "### Create NXdetector object"
   ]
  },
  {
   "cell_type": "markdown",
   "metadata": {},
   "source": [
    "NXdetector is the class of objects storing the metadata relative to the analyser"
   ]
  },
  {
   "cell_type": "code",
   "execution_count": 31,
   "metadata": {},
   "outputs": [],
   "source": [
    "root.entry.instrument.analyser=NXdetector()"
   ]
  },
  {
   "cell_type": "code",
   "execution_count": 32,
   "metadata": {},
   "outputs": [],
   "source": [
    "root.entry.instrument.analyser.extractor_voltage=NXfield(6030, units='V')\n",
    "root.entry.instrument.analyser.extractor_current=NXfield(-1.5e-6, units='A')\n",
    "root.entry.instrument.analyser.working_distance=NXfield(4, units='mm')\n",
    "root.entry.instrument.analyser.lens_mode=NXfield('20180430_KPEEM_M_-2.5_FoV6.2_rezAA_20ToF_focused.sav')\n",
    "root.entry.instrument.analyser.lens_names=NXfield(['Extr','Foc1','Z1','Z2','UFA','A','B','C','D','E','F','G','H','I','TOF','MCPfront'])\n",
    "root.entry.instrument.analyser.lens_voltages=NXfield([6030,np.nan,np.nan,np.nan,np.nan,np.nan,np.nan,np.nan,np.nan,np.nan,np.nan,np.nan,np.nan,np.nan,20,np.nan], units='V')\n",
    "root.entry.instrument.analyser.projection=NXfield('reciprocal')\n",
    "root.entry.instrument.analyser.magnification=NXfield(-1.5)\n",
    "root.entry.instrument.analyser.field_aperture=NXfield(750, units='um')\n",
    "root.entry.instrument.analyser.field_aperture_x=NXfield(-0.200, units='um')\n",
    "root.entry.instrument.analyser.field_aperture_y=NXfield(5.350, units='um')\n",
    "root.entry.instrument.analyser.contrast_aperture=NXfield('Out', units='um')\n",
    "root.entry.instrument.analyser.field_aperture_x=NXfield(np.nan, units='um')\n",
    "root.entry.instrument.analyser.field_aperture_y=NXfield(np.nan, units='um')\n",
    "root.entry.instrument.analyser.dispersion_scheme=NXfield('Time of flight')\n",
    "root.entry.instrument.analyser.pass_energy=NXfield(20, units='eV')\n",
    "root.entry.instrument.analyser.energy_scan_mode=NXfield('fixed')\n",
    "root.entry.instrument.analyser.tof_distance=NXfield(0.9, units='m')\n",
    "root.entry.instrument.analyser.amplifier_type=NXfield('MCP')\n",
    "root.entry.instrument.analyser.detector_type=NXfield('DLD')\n",
    "root.entry.instrument.analyser.detector_voltage=NXfield(np.nan, units='V')\n",
    "root.entry.instrument.analyser.sensor_size=NXfield(40, units='mm')\n",
    "root.entry.instrument.analyser.sensor_count=NXfield(4)\n",
    "root.entry.instrument.analyser.pixel_size=NXfield(np.nan, units='um')"
   ]
  },
  {
   "cell_type": "markdown",
   "metadata": {},
   "source": [
    "## Create NXsample object"
   ]
  },
  {
   "cell_type": "markdown",
   "metadata": {},
   "source": [
    "NXsample is a base class (only subordinate to entry) where information regarding the sample is stored. Note that the temperature is cross linked from the sample_temperature field in the manipulator, as an example of cross linking data from NXinstrument hierarchy in more elevated and descriptive hierarchy positions."
   ]
  },
  {
   "cell_type": "code",
   "execution_count": 33,
   "metadata": {},
   "outputs": [],
   "source": [
    "root.entry.sample=NXsample()"
   ]
  },
  {
   "cell_type": "code",
   "execution_count": 34,
   "metadata": {},
   "outputs": [],
   "source": [
    "root.entry.sample.name=NXfield('WSe2')\n",
    "root.entry.sample.sample_id=NXfield('None')\n",
    "root.entry.sample.state=NXfield('monocrystalline solid')\n",
    "root.entry.sample.purity=NXfield(0.999)\n",
    "root.entry.sample.surface_orientation=NXfield('0001')\n",
    "root.entry.sample.layer=NXfield('bulk')\n",
    "root.entry.sample.space_group=NXfield(194)\n",
    "root.entry.sample.chemical_formula=NXfield('WSe2')\n",
    "root.entry.sample.chemical_name=NXfield('Tungsten diselenide')\n",
    "root.entry.sample.chem_id_cas=NXfield('12067-46-8')\n",
    "root.entry.sample.temperature=NXlink(root.entry.instrument.manipulator.sample_temperature)\n",
    "root.entry.sample.pressure=NXfield(3.27e-10, units='mbar')\n",
    "root.entry.sample.gas=NXfield('residual')\n",
    "root.entry.sample.E_field=NXfield(np.nan, units='V')\n",
    "root.entry.sample.B_field=NXfield(np.nan, units='T')\n",
    "root.entry.sample.stress_field=NXfield(np.nan, units='Pa')\n",
    "root.entry.sample.thickness=NXfield(0.5, units='mm')\n",
    "root.entry.sample.surface_dopant=NXfield('None')\n",
    "root.entry.sample.surface_dopant_coverage=NXfield(0, units='Å')\n",
    "root.entry.sample.bias=NXlink(root.entry.instrument.manipulator.sample_bias)\n",
    "root.entry.sample.drain_current=NXlink(root.entry.instrument.manipulator.drain_current)\n",
    "root.entry.sample.growth_method=NXfield('Chemical Vapor Deposition')\n",
    "root.entry.sample.preparation_method=NXfield('in-vacuum cleave')\n",
    "root.entry.sample.preparation_date=NXfield('Not found')\n",
    "root.entry.sample.vendor=NXfield('HQ Graphene')\n",
    "root.entry.sample.substrate_material=NXfield('Not found')\n",
    "root.entry.sample.substrate_state=NXfield('Not found')\n",
    "root.entry.sample.substrate_vendor=NXfield('Not found')\n",
    "root.entry.sample.substrate_notes=NXfield('Not found')"
   ]
  },
  {
   "cell_type": "markdown",
   "metadata": {},
   "source": [
    "## Create NXprocess object"
   ]
  },
  {
   "cell_type": "markdown",
   "metadata": {},
   "source": [
    "NXprocess is the class of groups containing information regarding the processing the data has undergone. For our heavily preprocessed data, the substructure is way too simple, and I had to create subgroups. These are obviously not included as real NXclasses, but they just wrapped with the attributes that I input.\n",
    "\n",
    "Note that the final calibrated axes are saved here and only linked in the main data group."
   ]
  },
  {
   "cell_type": "code",
   "execution_count": 35,
   "metadata": {},
   "outputs": [],
   "source": [
    "root.entry.process=NXprocess()"
   ]
  },
  {
   "cell_type": "code",
   "execution_count": 36,
   "metadata": {},
   "outputs": [],
   "source": [
    "# NXprocess doesn't have a substructure, but in our case of complex preprocessing it is needed. \n",
    "root.entry.process.distortion=NXgroup(name='NXdistortion')\n",
    "root.entry.process.registration=NXgroup(name='NXregistration')\n",
    "root.entry.process.calibration_k=NXgroup(name='NXcalibration')\n",
    "root.entry.process.calibration_e=NXgroup(name='NXcalibration')\n",
    "root.entry.process.correction=NXgroup(name='NXcorrection')\n",
    "root.entry.process.enhancement=NXgroup(name='NXenhancement')"
   ]
  },
  {
   "cell_type": "code",
   "execution_count": 37,
   "metadata": {},
   "outputs": [],
   "source": [
    "# Define program characteristics\n",
    "root.entry.process.program_name=NXfield('FLASH_CBSignalAnalysis_QWP=183_80x80x146x230_deposit.ipynb')\n",
    "root.entry.process.program_version=NXfield('alpha')\n",
    "root.entry.process.program_codebase=NXfield('mpes')\n",
    "root.entry.process.program_sequence=NXfield(['distortion_correction','translation','rotation', 'calibration'])\n",
    "# Some transformations involved in this process are non-commutative so the order is important\n",
    "\n",
    "# Metadata on distortion correction\n",
    "root.entry.process.distortion.applied=NXfield(True)\n",
    "root.entry.process.distortion.symmetry=NXfield(6)\n",
    "root.entry.process.distortion.symmetry_angle=NXfield(60)\n",
    "root.entry.process.distortion.original_centre=NXfield(shape=(2),dtype=np.float32,fillervalue=np.nan)\n",
    "root.entry.process.distortion.original_points=NXfield(shape=(2,6),dtype=np.float32,fillervalue=np.nan)\n",
    "root.entry.process.distortion.field=NXfield(shape=(80,80),dtype=np.float32,fillervalue=np.nan)\n",
    "\n",
    "# Metadata on image registration\n",
    "root.entry.process.registration.applied=NXfield(True)\n",
    "root.entry.process.registration.x_translation=NXfield(np.nan)\n",
    "root.entry.process.registration.y_translation=NXfield(np.nan)\n",
    "root.entry.process.registration.new_centre=NXfield([np.nan,np.nan])\n",
    "root.entry.process.registration.rotation_angle=NXfield(np.nan)\n",
    "root.entry.process.registration.rotation_centre=NXfield([np.nan,np.nan])\n",
    "root.entry.process.registration.scaling=NXfield(np.nan)\n",
    "\n",
    "# Metadata on calibration\n",
    "root.entry.process.calibration_k.applied=NXfield(True)\n",
    "root.entry.process.calibration_k.x_scaling=NXfield(np.nan)\n",
    "root.entry.process.calibration_k.y_scaling=NXfield(np.nan)\n",
    "\n",
    "root.entry.process.calibration_e.applied=NXfield(True)\n",
    "root.entry.process.calibration_e.files=NXfield(shape=(7),fillervalue='Not found.h5')\n",
    "root.entry.process.calibration_e.biases=NXfield(shape=(7),dtype=np.float32,fillervalue=np.nan)\n",
    "root.entry.process.calibration_e.peaks=NXfield(shape=(7),dtype=np.float32,fillervalue=np.nan)\n",
    "root.entry.process.calibration_e.peaks=NXfield(shape=(7),dtype=np.float32,fillervalue=np.nan)\n",
    "root.entry.process.calibration_e.E0=NXfield(shape=(7),dtype=np.float32,fillervalue=np.nan)\n",
    "root.entry.process.calibration_e.offset=NXfield(shape=(7),dtype=np.float32,fillervalue=np.nan)\n",
    "root.entry.process.calibration_e.coefficients=NXfield(shape=(2),dtype=np.float32,fillervalue=np.nan)\n",
    "\n",
    "# Define calculated axes\n",
    "root.entry.process.calculated_kx=NXfield(in_d['axes']['kx'],name='k_x',units='1/Å')\n",
    "root.entry.process.calculated_ky=NXfield(in_d['axes']['ky'],name='k_y',units='1/Å')\n",
    "root.entry.process.calculated_Energy=NXfield(in_d['axes']['E'],name='Energy',units='eV')\n",
    "root.entry.process.calculated_Tpp=NXfield(in_d['axes']['tpp'],name='Pump-probe delay',units='fs')\n",
    "\n",
    "# Define original axes\n",
    "px_x=NXfield(np.linspace(0,1,80),dtype=np.float64,name='pixel x')\n",
    "px_y=NXfield(np.linspace(0,1,80),dtype=np.float64,name='pixel y')\n",
    "tof=NXfield(shape=(146),dtype=np.float32,fillervalue=np.nan,name='time of flight', units='ns')\n",
    "ADC=NXfield(shape=(195),dtype=np.float32,fillervalue=np.nan,name='delay stage position')\n",
    "\n",
    "# Define NXdata fields for the conversion axes\n",
    "z1=NXlink(root.entry.process.calculated_kx)\n",
    "root.entry.process.x_to_k_x=NXdata(z1,px_x)\n",
    "z2=NXlink(root.entry.process.calculated_ky)\n",
    "root.entry.process.y_to_k_y=NXdata(z2,px_y)\n",
    "z3=NXlink(root.entry.process.calculated_Energy)\n",
    "root.entry.process.tof_to_E=NXdata(z3,tof)\n",
    "z4=NXlink(root.entry.process.calculated_Tpp)\n",
    "root.entry.process.stage_to_delay=NXdata(z4,ADC)\n",
    "\n",
    "root.entry.process.other_converts=NXfield('Not found')\n",
    "\n",
    "# Metadata on other data preprocessing (to be further expanded)\n",
    "root.entry.process.enhancement.MCLAHE_applied=NXfield(False)\n",
    "root.entry.process.enhancement.MCLAHE_parameters=NXfield(shape=(3),dtype=np.float32,fillervalue=np.nan)\n",
    "root.entry.process.correction.space_charge_applied=NXfield(False)\n",
    "root.entry.process.correction.space_charge_parameters=NXfield(shape=(3),dtype=np.float32,fillervalue=np.nan)\n",
    "root.entry.process.correction.flat_field_applied=NXfield(False)\n",
    "root.entry.process.correction.flat_field_map=NXfield(shape=(80,80),dtype=np.float32,fillervalue=np.nan)"
   ]
  },
  {
   "cell_type": "markdown",
   "metadata": {},
   "source": [
    "## Create NXdata object"
   ]
  },
  {
   "cell_type": "markdown",
   "metadata": {},
   "source": [
    "Main data group containing the data relevant for the entry. The calibrated axes on which it should be plotted are linked from the NXprocess group, where they are stored.\n",
    "\n",
    "NXfield inherits data allocation fro h5py. When data is above a cerain size, it divides it in chunks for better memory stability. It also automatically applies a lossless compression. While the chunking may be desirable in this situation, compression may be not. Changing the \"compression_opts\" number between 0 and 9 allows to go from, respectively, no compression to maximum compression."
   ]
  },
  {
   "cell_type": "code",
   "execution_count": 38,
   "metadata": {},
   "outputs": [],
   "source": [
    "# Create the NXdata object\n",
    "#Build the axes with names and units\n",
    "kx=NXlink(root.entry.process.calculated_kx)\n",
    "ky=NXlink(root.entry.process.calculated_ky)\n",
    "E=NXlink(root.entry.process.calculated_Energy)\n",
    "tpp=NXlink(root.entry.process.calculated_Tpp)\n",
    "data_vol=NXfield(in_d['binned']['V'],name='Photoemission intensity',units='counts', compression=\"gzip\", compression_opts=0)"
   ]
  },
  {
   "cell_type": "code",
   "execution_count": 39,
   "metadata": {},
   "outputs": [],
   "source": [
    "# Wrap the NXfields in a NXdata object\n",
    "root.entry.data=NXdata(data_vol,[kx,ky,E,tpp])"
   ]
  },
  {
   "cell_type": "markdown",
   "metadata": {},
   "source": [
    "# Save File"
   ]
  },
  {
   "cell_type": "markdown",
   "metadata": {},
   "source": [
    "The saving command wraps all the fields, groups and data with the attributes according to NeXus Standard and saves in an h5."
   ]
  },
  {
   "cell_type": "code",
   "execution_count": 40,
   "metadata": {},
   "outputs": [
    {
     "data": {
      "text/plain": [
       "NXroot('root')"
      ]
     },
     "execution_count": 40,
     "metadata": {},
     "output_type": "execute_result"
    }
   ],
   "source": [
    "root.save('201805_WSe2_max.nxs', mode='w')"
   ]
  }
 ],
 "metadata": {
  "kernelspec": {
   "display_name": "Python 3",
   "language": "python",
   "name": "python3"
  },
  "language_info": {
   "codemirror_mode": {
    "name": "ipython",
    "version": 3
   },
   "file_extension": ".py",
   "mimetype": "text/x-python",
   "name": "python",
   "nbconvert_exporter": "python",
   "pygments_lexer": "ipython3",
   "version": "3.8.2"
  }
 },
 "nbformat": 4,
 "nbformat_minor": 4
}
